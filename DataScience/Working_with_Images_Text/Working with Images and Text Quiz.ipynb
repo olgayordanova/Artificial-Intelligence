{
 "cells": [
  {
   "cell_type": "code",
   "execution_count": 1,
   "metadata": {},
   "outputs": [],
   "source": [
    "%matplotlib inline"
   ]
  },
  {
   "cell_type": "code",
   "execution_count": 88,
   "metadata": {},
   "outputs": [
    {
     "name": "stderr",
     "output_type": "stream",
     "text": [
      "[nltk_data] Downloading package stopwords to\n",
      "[nltk_data]     C:\\Users\\o.yordanova\\AppData\\Roaming\\nltk_data...\n",
      "[nltk_data]   Package stopwords is already up-to-date!\n"
     ]
    }
   ],
   "source": [
    "import pandas as pd\n",
    "import matplotlib.pyplot as plt\n",
    "import nose.tools\n",
    "import skimage.io\n",
    "import cv2\n",
    "import numpy as np\n",
    "from urllib.request import urlopen\n",
    "import urllib\n",
    "from collections import Counter\n",
    "import re\n",
    "\n",
    "import nltk\n",
    "nltk.download(\"stopwords\")\n",
    "from nltk.corpus import stopwords\n",
    "\n",
    "from skimage.morphology import binary_opening,square\n",
    "from scipy import ndimage\n",
    "\n",
    "# Write your imports here"
   ]
  },
  {
   "cell_type": "code",
   "execution_count": 10,
   "metadata": {},
   "outputs": [
    {
     "data": {
      "text/plain": [
       "783126"
      ]
     },
     "execution_count": 10,
     "metadata": {},
     "output_type": "execute_result"
    }
   ],
   "source": [
    "hamburger_image = skimage.io.imread(\"hamburger.jpg\")\n",
    "# =626*417* 3 * (8 / 8)\n",
    "hamburger_image.nbytes\n"
   ]
  },
  {
   "cell_type": "code",
   "execution_count": 19,
   "metadata": {},
   "outputs": [
    {
     "data": {
      "text/plain": [
       "(90.03931551244628, 84.06009377801273, 37.236755004941735)"
      ]
     },
     "execution_count": 19,
     "metadata": {},
     "output_type": "execute_result"
    }
   ],
   "source": [
    "red = hamburger_image[:, :, 0]\n",
    "green = hamburger_image[:, :, 1]\n",
    "blue = hamburger_image[:, :, 2]\n",
    "red.mean(), green.mean(), blue.mean()"
   ]
  },
  {
   "cell_type": "code",
   "execution_count": 105,
   "metadata": {},
   "outputs": [
    {
     "data": {
      "text/plain": [
       "15022"
      ]
     },
     "execution_count": 105,
     "metadata": {},
     "output_type": "execute_result"
    }
   ],
   "source": [
    "img = cv2.imread('hamburger.jpg',0)\n",
    "blue = hamburger_image[:, :, 2]\n",
    "kernel = np.ones((3,3),np.uint8)\n",
    "# opening = cv2.morphologyEx(blue, cv2.MORPH_OPEN, kernel)\n",
    "n_white_pix = np.sum(opening == 1)\n",
    "n_white_pix\n",
    "# https://opencv24-python-tutorials.readthedocs.io/en/latest/py_tutorials/py_imgproc/py_morphological_ops/py_morphological_ops.html"
   ]
  },
  {
   "cell_type": "code",
   "execution_count": 108,
   "metadata": {},
   "outputs": [
    {
     "name": "stdout",
     "output_type": "stream",
     "text": [
      "Number of white pixels: 0\n"
     ]
    }
   ],
   "source": [
    "a = np.zeros((3,3), dtype=int)\n",
    "haburger_blue = binary_opening(blue,a)\n",
    "n_white_pix = np.sum(haburger_blue == 1)\n",
    "print('Number of white pixels:', n_white_pix)\n",
    "# https://docs.scipy.org/doc/scipy/reference/generated/scipy.ndimage.binary_opening.html"
   ]
  },
  {
   "cell_type": "code",
   "execution_count": 62,
   "metadata": {},
   "outputs": [
    {
     "name": "stdout",
     "output_type": "stream",
     "text": [
      "775712\n"
     ]
    }
   ],
   "source": [
    "with open(\"Pride_and_Prejudice.txt\", \"r\", encoding = \"utf-8\") as f:\n",
    "    book = f.read()\n",
    "print(len(book))\n"
   ]
  },
  {
   "cell_type": "code",
   "execution_count": 61,
   "metadata": {},
   "outputs": [
    {
     "name": "stdout",
     "output_type": "stream",
     "text": [
      "799645\n"
     ]
    }
   ],
   "source": [
    "book1 = urlopen('https://www.gutenberg.org/files/1342/1342-0.txt').read()\n",
    "print(len(book1))"
   ]
  },
  {
   "cell_type": "code",
   "execution_count": 73,
   "metadata": {},
   "outputs": [
    {
     "data": {
      "text/plain": [
       "(52, 10)"
      ]
     },
     "execution_count": 73,
     "metadata": {},
     "output_type": "execute_result"
    }
   ],
   "source": [
    "words = Counter(re.split(\"\\W+\",book.lower()))\n",
    "words[\"pride\"], words[\"prejudice\"]\n"
   ]
  },
  {
   "cell_type": "code",
   "execution_count": 86,
   "metadata": {},
   "outputs": [
    {
     "data": {
      "text/plain": [
       "[('mr', 785),\n",
       " ('elizabeth', 635),\n",
       " ('could', 526),\n",
       " ('would', 468),\n",
       " ('darcy', 417),\n",
       " ('said', 401),\n",
       " ('mrs', 343),\n",
       " ('much', 327),\n",
       " ('bennet', 323),\n",
       " ('must', 315),\n",
       " ('bingley', 306),\n",
       " ('jane', 294),\n",
       " ('miss', 283),\n",
       " ('one', 270),\n",
       " ('know', 237),\n",
       " ('though', 226),\n",
       " ('well', 224),\n",
       " ('never', 218),\n",
       " ('sister', 217),\n",
       " ('soon', 216)]"
      ]
     },
     "execution_count": 86,
     "metadata": {},
     "output_type": "execute_result"
    }
   ],
   "source": [
    "book_words_split = re.split(\"\\W+\",book.lower())\n",
    "stop = set(stopwords.words(\"english\"))\n",
    "words_ws = Counter([w for w in book_words_split if w not in stop])\n",
    "words_ws.most_common(20)\n"
   ]
  }
 ],
 "metadata": {
  "kernelspec": {
   "display_name": "Python 3",
   "language": "python",
   "name": "python3"
  },
  "language_info": {
   "codemirror_mode": {
    "name": "ipython",
    "version": 3
   },
   "file_extension": ".py",
   "mimetype": "text/x-python",
   "name": "python",
   "nbconvert_exporter": "python",
   "pygments_lexer": "ipython3",
   "version": "3.8.5"
  }
 },
 "nbformat": 4,
 "nbformat_minor": 4
}
