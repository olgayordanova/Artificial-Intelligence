{
 "cells": [
  {
   "cell_type": "code",
   "execution_count": 3,
   "metadata": {},
   "outputs": [],
   "source": [
    "%matplotlib inline"
   ]
  },
  {
   "cell_type": "code",
   "execution_count": 4,
   "metadata": {},
   "outputs": [],
   "source": [
    "import numpy as np\n",
    "import pandas as pd\n",
    "import matplotlib.pyplot as plt\n",
    "import skimage.io"
   ]
  },
  {
   "cell_type": "code",
   "execution_count": null,
   "metadata": {},
   "outputs": [],
   "source": [
    "#https://en.wikipedia.org/wiki/Rank_correlation\n",
    "#https://stats.stackexchange.com/questions/306771/is-there-any-way-to-compute-pearsons-correlation-between-two-strings"
   ]
  },
  {
   "cell_type": "code",
   "execution_count": 57,
   "metadata": {},
   "outputs": [
    {
     "data": {
      "text/html": [
       "<div>\n",
       "<style scoped>\n",
       "    .dataframe tbody tr th:only-of-type {\n",
       "        vertical-align: middle;\n",
       "    }\n",
       "\n",
       "    .dataframe tbody tr th {\n",
       "        vertical-align: top;\n",
       "    }\n",
       "\n",
       "    .dataframe thead th {\n",
       "        text-align: right;\n",
       "    }\n",
       "</style>\n",
       "<table border=\"1\" class=\"dataframe\">\n",
       "  <thead>\n",
       "    <tr style=\"text-align: right;\">\n",
       "      <th></th>\n",
       "      <th>code</th>\n",
       "      <th>emission</th>\n",
       "    </tr>\n",
       "  </thead>\n",
       "  <tbody>\n",
       "    <tr>\n",
       "      <th>0</th>\n",
       "      <td>SFA</td>\n",
       "      <td>Софарма АД-София</td>\n",
       "    </tr>\n",
       "    <tr>\n",
       "      <th>1</th>\n",
       "      <td>ATER</td>\n",
       "      <td>Адванс Терафонд АДСИЦ-София</td>\n",
       "    </tr>\n",
       "    <tr>\n",
       "      <th>2</th>\n",
       "      <td>DUH</td>\n",
       "      <td>Доверие Обединен Холдинг АД-София</td>\n",
       "    </tr>\n",
       "    <tr>\n",
       "      <th>3</th>\n",
       "      <td>CHIM</td>\n",
       "      <td>Химимпорт АД-София</td>\n",
       "    </tr>\n",
       "    <tr>\n",
       "      <th>4</th>\n",
       "      <td>BREF</td>\n",
       "      <td>Фонд за недвижими имоти България АДСИЦ-София</td>\n",
       "    </tr>\n",
       "    <tr>\n",
       "      <th>5</th>\n",
       "      <td>FIB</td>\n",
       "      <td>ТБ Първа Инвестиционна Банка АД-София</td>\n",
       "    </tr>\n",
       "    <tr>\n",
       "      <th>6</th>\n",
       "      <td>EUBG</td>\n",
       "      <td>Еврохолд България АД-София</td>\n",
       "    </tr>\n",
       "    <tr>\n",
       "      <th>7</th>\n",
       "      <td>EAC</td>\n",
       "      <td>Елана Агрокредит АД-София</td>\n",
       "    </tr>\n",
       "    <tr>\n",
       "      <th>8</th>\n",
       "      <td>HVAR</td>\n",
       "      <td>Холдинг Варна АД-Варна</td>\n",
       "    </tr>\n",
       "    <tr>\n",
       "      <th>9</th>\n",
       "      <td>MONB</td>\n",
       "      <td>Монбат АД-София</td>\n",
       "    </tr>\n",
       "    <tr>\n",
       "      <th>10</th>\n",
       "      <td>CCB</td>\n",
       "      <td>ТБ Централна кооперативна банка АД-София</td>\n",
       "    </tr>\n",
       "    <tr>\n",
       "      <th>11</th>\n",
       "      <td>SGH</td>\n",
       "      <td>Сирма Груп Холдинг АД-София</td>\n",
       "    </tr>\n",
       "    <tr>\n",
       "      <th>12</th>\n",
       "      <td>GR6</td>\n",
       "      <td>Градус АД-Стара Загора</td>\n",
       "    </tr>\n",
       "    <tr>\n",
       "      <th>13</th>\n",
       "      <td>T57</td>\n",
       "      <td>Трейс груп холд АД-София</td>\n",
       "    </tr>\n",
       "    <tr>\n",
       "      <th>14</th>\n",
       "      <td>SPH</td>\n",
       "      <td>Стара планина Холд АД-София</td>\n",
       "    </tr>\n",
       "  </tbody>\n",
       "</table>\n",
       "</div>"
      ],
      "text/plain": [
       "    code                                      emission\n",
       "0    SFA                              Софарма АД-София\n",
       "1   ATER                   Адванс Терафонд АДСИЦ-София\n",
       "2    DUH             Доверие Обединен Холдинг АД-София\n",
       "3   CHIM                            Химимпорт АД-София\n",
       "4   BREF  Фонд за недвижими имоти България АДСИЦ-София\n",
       "5    FIB         ТБ Първа Инвестиционна Банка АД-София\n",
       "6   EUBG                    Еврохолд България АД-София\n",
       "7    EAC                     Елана Агрокредит АД-София\n",
       "8   HVAR                        Холдинг Варна АД-Варна\n",
       "9   MONB                               Монбат АД-София\n",
       "10   CCB      ТБ Централна кооперативна банка АД-София\n",
       "11   SGH                   Сирма Груп Холдинг АД-София\n",
       "12   GR6                        Градус АД-Стара Загора\n",
       "13   T57                      Трейс груп холд АД-София\n",
       "14   SPH                   Стара планина Холд АД-София"
      ]
     },
     "execution_count": 57,
     "metadata": {},
     "output_type": "execute_result"
    }
   ],
   "source": [
    "#Current Index Participants\n",
    "\n",
    "current_participants = pd.read_csv('data/Sofix_Metodology_Current_Participants.csv', sep=';', encoding='utf-8')\n",
    "current_participants =current_participants[['code', 'emission']]\n",
    "# current_participants = current_participants[~pd.isna(current_participants['Текущ Софикс'])]\n",
    "current_participants"
   ]
  },
  {
   "cell_type": "code",
   "execution_count": 58,
   "metadata": {},
   "outputs": [
    {
     "data": {
      "text/html": [
       "<div>\n",
       "<style scoped>\n",
       "    .dataframe tbody tr th:only-of-type {\n",
       "        vertical-align: middle;\n",
       "    }\n",
       "\n",
       "    .dataframe tbody tr th {\n",
       "        vertical-align: top;\n",
       "    }\n",
       "\n",
       "    .dataframe thead th {\n",
       "        text-align: right;\n",
       "    }\n",
       "</style>\n",
       "<table border=\"1\" class=\"dataframe\">\n",
       "  <thead>\n",
       "    <tr style=\"text-align: right;\">\n",
       "      <th></th>\n",
       "      <th>code</th>\n",
       "      <th>emmision</th>\n",
       "      <th>free_float</th>\n",
       "      <th>count_deals</th>\n",
       "      <th>weekly_volume</th>\n",
       "      <th>spread</th>\n",
       "      <th>rank</th>\n",
       "      <th>Фрий-флоут</th>\n",
       "      <th>сделки</th>\n",
       "      <th>оборот</th>\n",
       "      <th>спред</th>\n",
       "      <th>Текущ Софикс</th>\n",
       "    </tr>\n",
       "  </thead>\n",
       "  <tbody>\n",
       "    <tr>\n",
       "      <th>0</th>\n",
       "      <td>SFA</td>\n",
       "      <td>Софарма АД-София</td>\n",
       "      <td>160642033.0</td>\n",
       "      <td>1449.0</td>\n",
       "      <td>160023.0</td>\n",
       "      <td>0.0542</td>\n",
       "      <td>7.0</td>\n",
       "      <td>1.0</td>\n",
       "      <td>3.0</td>\n",
       "      <td>1.0</td>\n",
       "      <td>2.0</td>\n",
       "      <td>SFA</td>\n",
       "    </tr>\n",
       "    <tr>\n",
       "      <th>1</th>\n",
       "      <td>ATER</td>\n",
       "      <td>Адванс Терафонд АДСИЦ-София</td>\n",
       "      <td>102599719.0</td>\n",
       "      <td>1344.0</td>\n",
       "      <td>69618.0</td>\n",
       "      <td>0.0444</td>\n",
       "      <td>15.0</td>\n",
       "      <td>3.0</td>\n",
       "      <td>6.0</td>\n",
       "      <td>5.0</td>\n",
       "      <td>1.0</td>\n",
       "      <td>ATER</td>\n",
       "    </tr>\n",
       "    <tr>\n",
       "      <th>2</th>\n",
       "      <td>DUH</td>\n",
       "      <td>Доверие Обединен Холдинг АД-София</td>\n",
       "      <td>55733918.0</td>\n",
       "      <td>2099.0</td>\n",
       "      <td>127352.0</td>\n",
       "      <td>0.0649</td>\n",
       "      <td>16.0</td>\n",
       "      <td>8.0</td>\n",
       "      <td>1.0</td>\n",
       "      <td>2.0</td>\n",
       "      <td>5.0</td>\n",
       "      <td>DUH</td>\n",
       "    </tr>\n",
       "    <tr>\n",
       "      <th>4</th>\n",
       "      <td>CHIM</td>\n",
       "      <td>Химимпорт АД-София</td>\n",
       "      <td>51940098.0</td>\n",
       "      <td>1813.0</td>\n",
       "      <td>53972.0</td>\n",
       "      <td>0.0891</td>\n",
       "      <td>26.0</td>\n",
       "      <td>10.0</td>\n",
       "      <td>2.0</td>\n",
       "      <td>8.0</td>\n",
       "      <td>6.0</td>\n",
       "      <td>CHIM</td>\n",
       "    </tr>\n",
       "    <tr>\n",
       "      <th>5</th>\n",
       "      <td>BREF</td>\n",
       "      <td>Фонд за недвижими имоти България АДСИЦ-София</td>\n",
       "      <td>49219319.0</td>\n",
       "      <td>1164.0</td>\n",
       "      <td>64743.0</td>\n",
       "      <td>0.0601</td>\n",
       "      <td>30.0</td>\n",
       "      <td>11.0</td>\n",
       "      <td>8.0</td>\n",
       "      <td>7.0</td>\n",
       "      <td>4.0</td>\n",
       "      <td>BREF</td>\n",
       "    </tr>\n",
       "    <tr>\n",
       "      <th>6</th>\n",
       "      <td>FIB</td>\n",
       "      <td>ТБ Първа Инвестиционна Банка АД-София</td>\n",
       "      <td>29535000.0</td>\n",
       "      <td>1354.0</td>\n",
       "      <td>52392.0</td>\n",
       "      <td>0.0982</td>\n",
       "      <td>37.0</td>\n",
       "      <td>15.0</td>\n",
       "      <td>5.0</td>\n",
       "      <td>9.0</td>\n",
       "      <td>8.0</td>\n",
       "      <td>FIB</td>\n",
       "    </tr>\n",
       "    <tr>\n",
       "      <th>7</th>\n",
       "      <td>EUBG</td>\n",
       "      <td>Еврохолд България АД-София</td>\n",
       "      <td>146648068.0</td>\n",
       "      <td>655.0</td>\n",
       "      <td>105903.0</td>\n",
       "      <td>0.2007</td>\n",
       "      <td>38.0</td>\n",
       "      <td>2.0</td>\n",
       "      <td>12.0</td>\n",
       "      <td>3.0</td>\n",
       "      <td>21.0</td>\n",
       "      <td>EUBG</td>\n",
       "    </tr>\n",
       "    <tr>\n",
       "      <th>8</th>\n",
       "      <td>ALB</td>\n",
       "      <td>Албена АД-к.к. Албена</td>\n",
       "      <td>35806484.0</td>\n",
       "      <td>693.0</td>\n",
       "      <td>65136.0</td>\n",
       "      <td>0.1407</td>\n",
       "      <td>44.0</td>\n",
       "      <td>13.0</td>\n",
       "      <td>11.0</td>\n",
       "      <td>6.0</td>\n",
       "      <td>14.0</td>\n",
       "      <td>NaN</td>\n",
       "    </tr>\n",
       "    <tr>\n",
       "      <th>9</th>\n",
       "      <td>EAC</td>\n",
       "      <td>Елана Агрокредит АД-София</td>\n",
       "      <td>27599413.0</td>\n",
       "      <td>541.0</td>\n",
       "      <td>30793.0</td>\n",
       "      <td>0.0567</td>\n",
       "      <td>45.0</td>\n",
       "      <td>16.0</td>\n",
       "      <td>13.0</td>\n",
       "      <td>13.0</td>\n",
       "      <td>3.0</td>\n",
       "      <td>EAC</td>\n",
       "    </tr>\n",
       "    <tr>\n",
       "      <th>10</th>\n",
       "      <td>HVAR</td>\n",
       "      <td>Холдинг Варна АД-Варна</td>\n",
       "      <td>78471400.0</td>\n",
       "      <td>263.0</td>\n",
       "      <td>15580.0</td>\n",
       "      <td>0.1080</td>\n",
       "      <td>48.0</td>\n",
       "      <td>4.0</td>\n",
       "      <td>18.0</td>\n",
       "      <td>17.0</td>\n",
       "      <td>9.0</td>\n",
       "      <td>HVAR</td>\n",
       "    </tr>\n",
       "    <tr>\n",
       "      <th>11</th>\n",
       "      <td>CCB</td>\n",
       "      <td>ТБ Централна кооперативна банка АД-София</td>\n",
       "      <td>22451967.0</td>\n",
       "      <td>1390.0</td>\n",
       "      <td>31388.0</td>\n",
       "      <td>0.1444</td>\n",
       "      <td>49.0</td>\n",
       "      <td>17.0</td>\n",
       "      <td>4.0</td>\n",
       "      <td>12.0</td>\n",
       "      <td>16.0</td>\n",
       "      <td>CCB</td>\n",
       "    </tr>\n",
       "    <tr>\n",
       "      <th>12</th>\n",
       "      <td>SGH</td>\n",
       "      <td>Сирма Груп Холдинг АД-София</td>\n",
       "      <td>17188430.0</td>\n",
       "      <td>870.0</td>\n",
       "      <td>51564.0</td>\n",
       "      <td>0.1150</td>\n",
       "      <td>51.0</td>\n",
       "      <td>22.0</td>\n",
       "      <td>9.0</td>\n",
       "      <td>10.0</td>\n",
       "      <td>10.0</td>\n",
       "      <td>SGH</td>\n",
       "    </tr>\n",
       "    <tr>\n",
       "      <th>13</th>\n",
       "      <td>GR6</td>\n",
       "      <td>Градус АД-Стара Загора</td>\n",
       "      <td>65682203.0</td>\n",
       "      <td>410.0</td>\n",
       "      <td>21711.0</td>\n",
       "      <td>0.1581</td>\n",
       "      <td>52.0</td>\n",
       "      <td>6.0</td>\n",
       "      <td>15.0</td>\n",
       "      <td>14.0</td>\n",
       "      <td>17.0</td>\n",
       "      <td>GR6</td>\n",
       "    </tr>\n",
       "    <tr>\n",
       "      <th>14</th>\n",
       "      <td>T57</td>\n",
       "      <td>Трейс груп холд АД-София</td>\n",
       "      <td>20382417.0</td>\n",
       "      <td>511.0</td>\n",
       "      <td>17956.0</td>\n",
       "      <td>0.1344</td>\n",
       "      <td>59.0</td>\n",
       "      <td>18.0</td>\n",
       "      <td>14.0</td>\n",
       "      <td>15.0</td>\n",
       "      <td>12.0</td>\n",
       "      <td>T57</td>\n",
       "    </tr>\n",
       "    <tr>\n",
       "      <th>15</th>\n",
       "      <td>MSH</td>\n",
       "      <td>М+С хидравлик АД-Казанлък</td>\n",
       "      <td>63931623.0</td>\n",
       "      <td>196.0</td>\n",
       "      <td>10812.0</td>\n",
       "      <td>0.1747</td>\n",
       "      <td>65.0</td>\n",
       "      <td>7.0</td>\n",
       "      <td>21.0</td>\n",
       "      <td>18.0</td>\n",
       "      <td>19.0</td>\n",
       "      <td>NaN</td>\n",
       "    </tr>\n",
       "  </tbody>\n",
       "</table>\n",
       "</div>"
      ],
      "text/plain": [
       "    code                                      emmision   free_float  \\\n",
       "0    SFA                              Софарма АД-София  160642033.0   \n",
       "1   ATER                   Адванс Терафонд АДСИЦ-София  102599719.0   \n",
       "2    DUH             Доверие Обединен Холдинг АД-София   55733918.0   \n",
       "4   CHIM                            Химимпорт АД-София   51940098.0   \n",
       "5   BREF  Фонд за недвижими имоти България АДСИЦ-София   49219319.0   \n",
       "6    FIB         ТБ Първа Инвестиционна Банка АД-София   29535000.0   \n",
       "7   EUBG                    Еврохолд България АД-София  146648068.0   \n",
       "8    ALB                         Албена АД-к.к. Албена   35806484.0   \n",
       "9    EAC                     Елана Агрокредит АД-София   27599413.0   \n",
       "10  HVAR                        Холдинг Варна АД-Варна   78471400.0   \n",
       "11   CCB      ТБ Централна кооперативна банка АД-София   22451967.0   \n",
       "12   SGH                   Сирма Груп Холдинг АД-София   17188430.0   \n",
       "13   GR6                        Градус АД-Стара Загора   65682203.0   \n",
       "14   T57                      Трейс груп холд АД-София   20382417.0   \n",
       "15   MSH                     М+С хидравлик АД-Казанлък   63931623.0   \n",
       "\n",
       "    count_deals  weekly_volume  spread  rank  Фрий-флоут  сделки   оборот  \\\n",
       "0        1449.0       160023.0  0.0542   7.0         1.0      3.0     1.0   \n",
       "1        1344.0        69618.0  0.0444  15.0         3.0      6.0     5.0   \n",
       "2        2099.0       127352.0  0.0649  16.0         8.0      1.0     2.0   \n",
       "4        1813.0        53972.0  0.0891  26.0        10.0      2.0     8.0   \n",
       "5        1164.0        64743.0  0.0601  30.0        11.0      8.0     7.0   \n",
       "6        1354.0        52392.0  0.0982  37.0        15.0      5.0     9.0   \n",
       "7         655.0       105903.0  0.2007  38.0         2.0     12.0     3.0   \n",
       "8         693.0        65136.0  0.1407  44.0        13.0     11.0     6.0   \n",
       "9         541.0        30793.0  0.0567  45.0        16.0     13.0    13.0   \n",
       "10        263.0        15580.0  0.1080  48.0         4.0     18.0    17.0   \n",
       "11       1390.0        31388.0  0.1444  49.0        17.0      4.0    12.0   \n",
       "12        870.0        51564.0  0.1150  51.0        22.0      9.0    10.0   \n",
       "13        410.0        21711.0  0.1581  52.0         6.0     15.0    14.0   \n",
       "14        511.0        17956.0  0.1344  59.0        18.0     14.0    15.0   \n",
       "15        196.0        10812.0  0.1747  65.0         7.0     21.0    18.0   \n",
       "\n",
       "    спред Текущ Софикс  \n",
       "0     2.0          SFA  \n",
       "1     1.0         ATER  \n",
       "2     5.0          DUH  \n",
       "4     6.0         CHIM  \n",
       "5     4.0         BREF  \n",
       "6     8.0          FIB  \n",
       "7    21.0         EUBG  \n",
       "8    14.0          NaN  \n",
       "9     3.0          EAC  \n",
       "10    9.0         HVAR  \n",
       "11   16.0          CCB  \n",
       "12   10.0          SGH  \n",
       "13   17.0          GR6  \n",
       "14   12.0          T57  \n",
       "15   19.0          NaN  "
      ]
     },
     "execution_count": 58,
     "metadata": {},
     "output_type": "execute_result"
    }
   ],
   "source": [
    "#Model Result\n",
    "\n",
    "model_results = pd.read_csv('data/Sofix_Metodology_Results_Model.csv', sep=';', encoding='utf-8')\n",
    "model_results=model_results.sort_values(by=['rank'],ascending=True)\n",
    "model_results = model_results.iloc[:15]\n",
    "model_results"
   ]
  },
  {
   "cell_type": "code",
   "execution_count": 59,
   "metadata": {
    "scrolled": false
   },
   "outputs": [
    {
     "data": {
      "text/html": [
       "<div>\n",
       "<style scoped>\n",
       "    .dataframe tbody tr th:only-of-type {\n",
       "        vertical-align: middle;\n",
       "    }\n",
       "\n",
       "    .dataframe tbody tr th {\n",
       "        vertical-align: top;\n",
       "    }\n",
       "\n",
       "    .dataframe thead th {\n",
       "        text-align: right;\n",
       "    }\n",
       "</style>\n",
       "<table border=\"1\" class=\"dataframe\">\n",
       "  <thead>\n",
       "    <tr style=\"text-align: right;\">\n",
       "      <th></th>\n",
       "      <th>code</th>\n",
       "      <th>emmision</th>\n",
       "      <th>free_float</th>\n",
       "      <th>weekly_volume</th>\n",
       "      <th>count_deals</th>\n",
       "      <th>spread</th>\n",
       "    </tr>\n",
       "  </thead>\n",
       "  <tbody>\n",
       "    <tr>\n",
       "      <th>0</th>\n",
       "      <td>SFA</td>\n",
       "      <td>Софарма АД-София</td>\n",
       "      <td>156588249</td>\n",
       "      <td>156810</td>\n",
       "      <td>1473</td>\n",
       "      <td>0.034681</td>\n",
       "    </tr>\n",
       "    <tr>\n",
       "      <th>1</th>\n",
       "      <td>ATER</td>\n",
       "      <td>Адванс Терафонд АДСИЦ-София</td>\n",
       "      <td>102428973</td>\n",
       "      <td>73828</td>\n",
       "      <td>1414</td>\n",
       "      <td>0.026616</td>\n",
       "    </tr>\n",
       "    <tr>\n",
       "      <th>2</th>\n",
       "      <td>DUH</td>\n",
       "      <td>Доверие Обединен Холдинг АД-София</td>\n",
       "      <td>55730526</td>\n",
       "      <td>122448</td>\n",
       "      <td>2121</td>\n",
       "      <td>0.044712</td>\n",
       "    </tr>\n",
       "    <tr>\n",
       "      <th>3</th>\n",
       "      <td>A4L</td>\n",
       "      <td>Алтерко АД-София</td>\n",
       "      <td>59270757</td>\n",
       "      <td>83768</td>\n",
       "      <td>2066</td>\n",
       "      <td>0.056602</td>\n",
       "    </tr>\n",
       "    <tr>\n",
       "      <th>4</th>\n",
       "      <td>CHIM</td>\n",
       "      <td>Химимпорт АД-София</td>\n",
       "      <td>51731241</td>\n",
       "      <td>53054</td>\n",
       "      <td>1823</td>\n",
       "      <td>0.049303</td>\n",
       "    </tr>\n",
       "    <tr>\n",
       "      <th>5</th>\n",
       "      <td>BREF</td>\n",
       "      <td>Фонд за недвижими имоти България АДСИЦ-София</td>\n",
       "      <td>49426059</td>\n",
       "      <td>68873</td>\n",
       "      <td>1174</td>\n",
       "      <td>0.037336</td>\n",
       "    </tr>\n",
       "    <tr>\n",
       "      <th>6</th>\n",
       "      <td>EUBG</td>\n",
       "      <td>Еврохолд България АД-София</td>\n",
       "      <td>150423645</td>\n",
       "      <td>99419</td>\n",
       "      <td>659</td>\n",
       "      <td>0.127798</td>\n",
       "    </tr>\n",
       "    <tr>\n",
       "      <th>7</th>\n",
       "      <td>FIB</td>\n",
       "      <td>ТБ Първа Инвестиционна Банка АД-София</td>\n",
       "      <td>29541600</td>\n",
       "      <td>51497</td>\n",
       "      <td>1366</td>\n",
       "      <td>0.061761</td>\n",
       "    </tr>\n",
       "    <tr>\n",
       "      <th>8</th>\n",
       "      <td>ALB</td>\n",
       "      <td>Албена АД-к.к. Албена</td>\n",
       "      <td>35810505</td>\n",
       "      <td>65055</td>\n",
       "      <td>698</td>\n",
       "      <td>0.065323</td>\n",
       "    </tr>\n",
       "    <tr>\n",
       "      <th>9</th>\n",
       "      <td>EAC</td>\n",
       "      <td>Елана Агрокредит АД-София</td>\n",
       "      <td>27765300</td>\n",
       "      <td>27711</td>\n",
       "      <td>548</td>\n",
       "      <td>0.032696</td>\n",
       "    </tr>\n",
       "    <tr>\n",
       "      <th>10</th>\n",
       "      <td>HVAR</td>\n",
       "      <td>Холдинг Варна АД-Варна</td>\n",
       "      <td>78542137</td>\n",
       "      <td>15416</td>\n",
       "      <td>263</td>\n",
       "      <td>0.054199</td>\n",
       "    </tr>\n",
       "    <tr>\n",
       "      <th>11</th>\n",
       "      <td>TBS</td>\n",
       "      <td>Телелинк Бизнес Сървисис Груп АД-София</td>\n",
       "      <td>36687000</td>\n",
       "      <td>25854</td>\n",
       "      <td>986</td>\n",
       "      <td>0.072411</td>\n",
       "    </tr>\n",
       "    <tr>\n",
       "      <th>12</th>\n",
       "      <td>GR6</td>\n",
       "      <td>Градус АД-Стара Загора</td>\n",
       "      <td>65664728</td>\n",
       "      <td>20286</td>\n",
       "      <td>418</td>\n",
       "      <td>0.078830</td>\n",
       "    </tr>\n",
       "    <tr>\n",
       "      <th>13</th>\n",
       "      <td>CCB</td>\n",
       "      <td>ТБ Централна кооперативна банка АД-София</td>\n",
       "      <td>22450644</td>\n",
       "      <td>31024</td>\n",
       "      <td>1408</td>\n",
       "      <td>0.085481</td>\n",
       "    </tr>\n",
       "    <tr>\n",
       "      <th>14</th>\n",
       "      <td>SGH</td>\n",
       "      <td>Сирма Груп Холдинг АД-София</td>\n",
       "      <td>17081939</td>\n",
       "      <td>41926</td>\n",
       "      <td>878</td>\n",
       "      <td>0.068372</td>\n",
       "    </tr>\n",
       "  </tbody>\n",
       "</table>\n",
       "</div>"
      ],
      "text/plain": [
       "    code                                       emmision  free_float  \\\n",
       "0    SFA                               Софарма АД-София   156588249   \n",
       "1   ATER                    Адванс Терафонд АДСИЦ-София   102428973   \n",
       "2    DUH              Доверие Обединен Холдинг АД-София    55730526   \n",
       "3    A4L                               Алтерко АД-София    59270757   \n",
       "4   CHIM                             Химимпорт АД-София    51731241   \n",
       "5   BREF   Фонд за недвижими имоти България АДСИЦ-София    49426059   \n",
       "6   EUBG                     Еврохолд България АД-София   150423645   \n",
       "7    FIB          ТБ Първа Инвестиционна Банка АД-София    29541600   \n",
       "8    ALB                          Албена АД-к.к. Албена    35810505   \n",
       "9    EAC                      Елана Агрокредит АД-София    27765300   \n",
       "10  HVAR                         Холдинг Варна АД-Варна    78542137   \n",
       "11   TBS         Телелинк Бизнес Сървисис Груп АД-София    36687000   \n",
       "12   GR6                         Градус АД-Стара Загора    65664728   \n",
       "13   CCB       ТБ Централна кооперативна банка АД-София    22450644   \n",
       "14   SGH                    Сирма Груп Холдинг АД-София    17081939   \n",
       "\n",
       "    weekly_volume  count_deals    spread  \n",
       "0          156810         1473  0.034681  \n",
       "1           73828         1414  0.026616  \n",
       "2          122448         2121  0.044712  \n",
       "3           83768         2066  0.056602  \n",
       "4           53054         1823  0.049303  \n",
       "5           68873         1174  0.037336  \n",
       "6           99419          659  0.127798  \n",
       "7           51497         1366  0.061761  \n",
       "8           65055          698  0.065323  \n",
       "9           27711          548  0.032696  \n",
       "10          15416          263  0.054199  \n",
       "11          25854          986  0.072411  \n",
       "12          20286          418  0.078830  \n",
       "13          31024         1408  0.085481  \n",
       "14          41926          878  0.068372  "
      ]
     },
     "execution_count": 59,
     "metadata": {},
     "output_type": "execute_result"
    }
   ],
   "source": [
    "#Real Result\n",
    "\n",
    "real_results = pd.read_csv('data/Sofix_Metodology_Results_RealData.csv', header = None, encoding='utf-8')\n",
    "real_results.columns=['code','emmision','free_float','weekly_volume','count_deals','spread']\n",
    "real_results"
   ]
  },
  {
   "cell_type": "code",
   "execution_count": 60,
   "metadata": {},
   "outputs": [
    {
     "name": "stdout",
     "output_type": "stream",
     "text": [
      "Според модела в състава на индекса влизат: {'MSH', 'ALB'}\n",
      "Според модела от състава на индекса излизат: {'SPH', 'MONB'}\n",
      "Според модела в състава на индекса остават: {'EUBG', 'BREF', 'HVAR', 'SGH', 'SFA', 'FIB', 'CHIM', 'T57', 'DUH', 'GR6', 'ATER', 'EAC', 'CCB'}\n",
      "\n",
      "Реално в състава на индекса влизат: {'A4L', 'ALB', 'TBS'}\n",
      "Реално от състава на индекса излизат: {'T57', 'SPH', 'MONB'}\n",
      "Реално в състава на индекса остават: {'EUBG', 'BREF', 'HVAR', 'SGH', 'SFA', 'FIB', 'CHIM', 'ATER', 'DUH', 'GR6', 'EAC', 'CCB'}\n",
      "\n",
      "Разлики в модела и реалната класация {'A4L', 'TBS'} Брой разлики:  2\n",
      "Познат брой емисии в модела и реалната класация {'EUBG', 'BREF', 'ALB', 'HVAR', 'SGH', 'SFA', 'FIB', 'CHIM', 'ATER', 'DUH', 'GR6', 'EAC', 'CCB'} Брой попадения:  13\n",
      "\n",
      "0.13333333333333333\n",
      "Коефициент познаваемост:  0.8666666666666667\n"
     ]
    }
   ],
   "source": [
    "# IN-OUT \n",
    " \n",
    "in_real = set(real_results['code'].tolist())\n",
    "in_model = set(model_results['code'].tolist())\n",
    "current = set(current_participants['code'].tolist())\n",
    "\n",
    "print(\"Според модела в състава на индекса влизат:\", in_model - current)\n",
    "print(\"Според модела от състава на индекса излизат:\",  current - in_model)\n",
    "print(\"Според модела в състава на индекса остават:\",  current & in_model)\n",
    "print()\n",
    "print(\"Реално в състава на индекса влизат:\", in_real - current)\n",
    "print(\"Реално от състава на индекса излизат:\",  current - in_real)\n",
    "print(\"Реално в състава на индекса остават:\",  current & in_real)\n",
    "print()\n",
    "print(\"Разлики в модела и реалната класация\",  in_real - in_model, 'Брой разлики: ',len(in_real - in_model))\n",
    "print(\"Познат брой емисии в модела и реалната класация\",  in_real & in_model,  'Брой попадения: ',len(in_real &  in_model))\n",
    "print()\n",
    "print(len(in_real - in_model)/15)\n",
    "print(\"Коефициент познаваемост: \", len(in_real & in_model)/15)\n"
   ]
  },
  {
   "cell_type": "code",
   "execution_count": 9,
   "metadata": {},
   "outputs": [
    {
     "name": "stdout",
     "output_type": "stream",
     "text": [
      "Index(['code', 'emmision', 'free_float', 'count_deals', 'weekly_volume',\n",
      "       'spread', 'rank', 'Фрий-флоут', 'сделки ', 'оборот', 'спред',\n",
      "       'Текущ Софикс'],\n",
      "      dtype='object')\n"
     ]
    }
   ],
   "source": [
    "print(model_results.columns)"
   ]
  },
  {
   "cell_type": "code",
   "execution_count": 10,
   "metadata": {},
   "outputs": [
    {
     "data": {
      "text/html": [
       "<div>\n",
       "<style scoped>\n",
       "    .dataframe tbody tr th:only-of-type {\n",
       "        vertical-align: middle;\n",
       "    }\n",
       "\n",
       "    .dataframe tbody tr th {\n",
       "        vertical-align: top;\n",
       "    }\n",
       "\n",
       "    .dataframe thead th {\n",
       "        text-align: right;\n",
       "    }\n",
       "</style>\n",
       "<table border=\"1\" class=\"dataframe\">\n",
       "  <thead>\n",
       "    <tr style=\"text-align: right;\">\n",
       "      <th></th>\n",
       "      <th>code</th>\n",
       "      <th>real_deals</th>\n",
       "      <th>model_deals</th>\n",
       "      <th>differenses</th>\n",
       "    </tr>\n",
       "  </thead>\n",
       "  <tbody>\n",
       "    <tr>\n",
       "      <th>0</th>\n",
       "      <td>EUBG</td>\n",
       "      <td>659</td>\n",
       "      <td>655.0</td>\n",
       "      <td>4.0</td>\n",
       "    </tr>\n",
       "    <tr>\n",
       "      <th>1</th>\n",
       "      <td>BREF</td>\n",
       "      <td>1174</td>\n",
       "      <td>1164.0</td>\n",
       "      <td>10.0</td>\n",
       "    </tr>\n",
       "    <tr>\n",
       "      <th>2</th>\n",
       "      <td>ALB</td>\n",
       "      <td>698</td>\n",
       "      <td>693.0</td>\n",
       "      <td>5.0</td>\n",
       "    </tr>\n",
       "    <tr>\n",
       "      <th>3</th>\n",
       "      <td>HVAR</td>\n",
       "      <td>263</td>\n",
       "      <td>263.0</td>\n",
       "      <td>0.0</td>\n",
       "    </tr>\n",
       "    <tr>\n",
       "      <th>4</th>\n",
       "      <td>SGH</td>\n",
       "      <td>878</td>\n",
       "      <td>870.0</td>\n",
       "      <td>8.0</td>\n",
       "    </tr>\n",
       "    <tr>\n",
       "      <th>5</th>\n",
       "      <td>SFA</td>\n",
       "      <td>1473</td>\n",
       "      <td>1449.0</td>\n",
       "      <td>24.0</td>\n",
       "    </tr>\n",
       "    <tr>\n",
       "      <th>6</th>\n",
       "      <td>FIB</td>\n",
       "      <td>1366</td>\n",
       "      <td>1354.0</td>\n",
       "      <td>12.0</td>\n",
       "    </tr>\n",
       "    <tr>\n",
       "      <th>7</th>\n",
       "      <td>CHIM</td>\n",
       "      <td>1823</td>\n",
       "      <td>1813.0</td>\n",
       "      <td>10.0</td>\n",
       "    </tr>\n",
       "    <tr>\n",
       "      <th>8</th>\n",
       "      <td>ATER</td>\n",
       "      <td>1414</td>\n",
       "      <td>1344.0</td>\n",
       "      <td>70.0</td>\n",
       "    </tr>\n",
       "    <tr>\n",
       "      <th>9</th>\n",
       "      <td>DUH</td>\n",
       "      <td>2121</td>\n",
       "      <td>2099.0</td>\n",
       "      <td>22.0</td>\n",
       "    </tr>\n",
       "    <tr>\n",
       "      <th>10</th>\n",
       "      <td>GR6</td>\n",
       "      <td>418</td>\n",
       "      <td>410.0</td>\n",
       "      <td>8.0</td>\n",
       "    </tr>\n",
       "    <tr>\n",
       "      <th>11</th>\n",
       "      <td>EAC</td>\n",
       "      <td>548</td>\n",
       "      <td>541.0</td>\n",
       "      <td>7.0</td>\n",
       "    </tr>\n",
       "    <tr>\n",
       "      <th>12</th>\n",
       "      <td>CCB</td>\n",
       "      <td>1408</td>\n",
       "      <td>1390.0</td>\n",
       "      <td>18.0</td>\n",
       "    </tr>\n",
       "  </tbody>\n",
       "</table>\n",
       "</div>"
      ],
      "text/plain": [
       "    code  real_deals  model_deals  differenses\n",
       "0   EUBG         659        655.0          4.0\n",
       "1   BREF        1174       1164.0         10.0\n",
       "2    ALB         698        693.0          5.0\n",
       "3   HVAR         263        263.0          0.0\n",
       "4    SGH         878        870.0          8.0\n",
       "5    SFA        1473       1449.0         24.0\n",
       "6    FIB        1366       1354.0         12.0\n",
       "7   CHIM        1823       1813.0         10.0\n",
       "8   ATER        1414       1344.0         70.0\n",
       "9    DUH        2121       2099.0         22.0\n",
       "10   GR6         418        410.0          8.0\n",
       "11   EAC         548        541.0          7.0\n",
       "12   CCB        1408       1390.0         18.0"
      ]
     },
     "execution_count": 10,
     "metadata": {},
     "output_type": "execute_result"
    }
   ],
   "source": [
    "# count of deals\n",
    "in_real_cd = real_results[['code','count_deals']]\n",
    "in_model_cd = model_results[['code','count_deals']]\n",
    "emision = pd.DataFrame(in_real & in_model)\n",
    "emision.columns=['code']\n",
    "emision = emision.merge(in_real_cd, on=\"code\", how=\"left\")\n",
    "emision = emision.merge(in_model_cd, on=\"code\", how=\"left\")\n",
    "emision.columns=['code','real_deals','model_deals']\n",
    "emision['differenses'] = emision.real_deals - emision.model_deals\n",
    "emision"
   ]
  },
  {
   "cell_type": "code",
   "execution_count": 36,
   "metadata": {},
   "outputs": [
    {
     "data": {
      "image/png": "[encoded data removed]",
      "text/plain": [
       "<Figure size 432x288 with 1 Axes>"
      ]
     },
     "metadata": {
      "needs_background": "light"
     },
     "output_type": "display_data"
    }
   ],
   "source": [
    "correlation = emision.real_deals.corr(emision.model_deals)\n",
    "text_box_info = f'Correlarion: {correlation:.4f}'\n",
    "plt.scatter(emision.real_deals,emision.model_deals )\n",
    "plt.title('Correlation between model and real count deals')\n",
    "plt.ylabel('Model Deals', fontsize=12)\n",
    "plt.xlabel('Real Deals', fontsize=12)\n",
    "plt.text(250,2000,text_box_info, fontsize=12, c = 'r')\n",
    "plt.show()"
   ]
  },
  {
   "cell_type": "code",
   "execution_count": 39,
   "metadata": {},
   "outputs": [
    {
     "data": {
      "image/png": "[encoded data removed]",
      "text/plain": [
       "<Figure size 432x288 with 1 Axes>"
      ]
     },
     "metadata": {
      "needs_background": "light"
     },
     "output_type": "display_data"
    }
   ],
   "source": [
    "codies = emision.code\n",
    "differenses = np.array(emision.differenses)\n",
    "real_deals= np.array(emision.real_deals)\n",
    "model_deals= np.array(emision.model_deals)\n",
    "# plt.barh(x, y, color=\"green\", label=combined_label)\n",
    "plt.barh(codies, differenses, color=\"green\",label='differences', alpha = 0.2)\n",
    "plt.barh(codies, real_deals, color=\"blue\", label='real_deals' , alpha = 0.2)\n",
    "plt.barh(codies, model_deals, color=\"red\", label='model_deals' ,alpha = 0.2)\n",
    "plt.yticks(fontsize=12)\n",
    "plt.xticks(fontsize=12)\n",
    "plt.title('Count of deals analysis')\n",
    "plt.ylabel('Emission', fontsize=12)\n",
    "plt.xlabel('differences vs. Data', fontsize=12)\n",
    "plt.legend(bbox_to_anchor=(1.05, 1), loc='upper left', borderaxespad=0.)\n",
    "\n",
    "plt.show()"
   ]
  },
  {
   "cell_type": "code",
   "execution_count": 38,
   "metadata": {},
   "outputs": [
    {
     "data": {
      "image/png": "[encoded data removed]",
      "text/plain": [
       "<Figure size 432x288 with 1 Axes>"
      ]
     },
     "metadata": {
      "needs_background": "light"
     },
     "output_type": "display_data"
    }
   ],
   "source": [
    "codies = emision.code\n",
    "differenses = np.array(emision.differenses)\n",
    "plt.barh(codies, differenses, color=\"green\", alpha = 0.2)\n",
    "plt.yticks(fontsize=12)\n",
    "plt.xticks(fontsize=12)\n",
    "plt.title('Count of deals differences')\n",
    "plt.ylabel('Emission', fontsize=12)\n",
    "plt.xlabel('differences', fontsize=12)\n",
    "\n",
    "plt.show()"
   ]
  },
  {
   "cell_type": "code",
   "execution_count": 92,
   "metadata": {},
   "outputs": [
    {
     "data": {
      "image/png": "[encoded data removed]",
      "text/plain": [
       "<Figure size 432x288 with 1 Axes>"
      ]
     },
     "metadata": {
      "needs_background": "light"
     },
     "output_type": "display_data"
    }
   ],
   "source": [
    "codies = emision.code\n",
    "differenses = np.array(emision.differenses)\n",
    "plt.hist(differenses, bins = 13, color=\"green\", alpha = 0.2)\n",
    "plt.yticks(fontsize=12)\n",
    "plt.xticks(fontsize=12)\n",
    "plt.title('Count of deals histogram')\n",
    "plt.ylabel('Count', fontsize=12)\n",
    "plt.xlabel('differences', fontsize=12)\n",
    "#хистограмите показват, че отклоненията на модела от \n",
    "#реалния резултат са всички по-големи от 0 и следователно модела подценява този показател\n",
    "plt.show()"
   ]
  },
  {
   "cell_type": "code",
   "execution_count": 164,
   "metadata": {},
   "outputs": [
    {
     "data": {
      "text/plain": [
       "15.23076923076923"
      ]
     },
     "execution_count": 164,
     "metadata": {},
     "output_type": "execute_result"
    }
   ],
   "source": [
    "emision.differenses.mean()"
   ]
  },
  {
   "cell_type": "code",
   "execution_count": 165,
   "metadata": {},
   "outputs": [
    {
     "data": {
      "text/plain": [
       "10.0"
      ]
     },
     "execution_count": 165,
     "metadata": {},
     "output_type": "execute_result"
    }
   ],
   "source": [
    "emision.differenses.median()"
   ]
  },
  {
   "cell_type": "code",
   "execution_count": 166,
   "metadata": {},
   "outputs": [
    {
     "data": {
      "text/plain": [
       "17.865953870205413"
      ]
     },
     "execution_count": 166,
     "metadata": {},
     "output_type": "execute_result"
    }
   ],
   "source": [
    "emision.differenses.std()"
   ]
  },
  {
   "cell_type": "code",
   "execution_count": 167,
   "metadata": {},
   "outputs": [
    {
     "data": {
      "text/plain": [
       "198.0"
      ]
     },
     "execution_count": 167,
     "metadata": {},
     "output_type": "execute_result"
    }
   ],
   "source": [
    "emision.differenses.sum()\n",
    "# Вероятно не е обхванат един ден като са обработвани данните от инфосток"
   ]
  },
  {
   "cell_type": "code",
   "execution_count": 171,
   "metadata": {},
   "outputs": [
    {
     "data": {
      "text/plain": [
       "0.013901565681387349"
      ]
     },
     "execution_count": 171,
     "metadata": {},
     "output_type": "execute_result"
    }
   ],
   "source": [
    "emision.differenses.mean()/emision.real_deals.mean()\n",
    "#около 1.4% отклонение"
   ]
  },
  {
   "cell_type": "code",
   "execution_count": 61,
   "metadata": {},
   "outputs": [
    {
     "data": {
      "text/html": [
       "<div>\n",
       "<style scoped>\n",
       "    .dataframe tbody tr th:only-of-type {\n",
       "        vertical-align: middle;\n",
       "    }\n",
       "\n",
       "    .dataframe tbody tr th {\n",
       "        vertical-align: top;\n",
       "    }\n",
       "\n",
       "    .dataframe thead th {\n",
       "        text-align: right;\n",
       "    }\n",
       "</style>\n",
       "<table border=\"1\" class=\"dataframe\">\n",
       "  <thead>\n",
       "    <tr style=\"text-align: right;\">\n",
       "      <th></th>\n",
       "      <th>code</th>\n",
       "      <th>real_volume</th>\n",
       "      <th>model_volume</th>\n",
       "      <th>differenses</th>\n",
       "    </tr>\n",
       "  </thead>\n",
       "  <tbody>\n",
       "    <tr>\n",
       "      <th>0</th>\n",
       "      <td>EUBG</td>\n",
       "      <td>99419</td>\n",
       "      <td>105903.0</td>\n",
       "      <td>-6484.0</td>\n",
       "    </tr>\n",
       "    <tr>\n",
       "      <th>1</th>\n",
       "      <td>BREF</td>\n",
       "      <td>68873</td>\n",
       "      <td>64743.0</td>\n",
       "      <td>4130.0</td>\n",
       "    </tr>\n",
       "    <tr>\n",
       "      <th>2</th>\n",
       "      <td>ALB</td>\n",
       "      <td>65055</td>\n",
       "      <td>65136.0</td>\n",
       "      <td>-81.0</td>\n",
       "    </tr>\n",
       "    <tr>\n",
       "      <th>3</th>\n",
       "      <td>HVAR</td>\n",
       "      <td>15416</td>\n",
       "      <td>15580.0</td>\n",
       "      <td>-164.0</td>\n",
       "    </tr>\n",
       "    <tr>\n",
       "      <th>4</th>\n",
       "      <td>SGH</td>\n",
       "      <td>41926</td>\n",
       "      <td>51564.0</td>\n",
       "      <td>-9638.0</td>\n",
       "    </tr>\n",
       "    <tr>\n",
       "      <th>5</th>\n",
       "      <td>SFA</td>\n",
       "      <td>156810</td>\n",
       "      <td>160023.0</td>\n",
       "      <td>-3213.0</td>\n",
       "    </tr>\n",
       "    <tr>\n",
       "      <th>6</th>\n",
       "      <td>FIB</td>\n",
       "      <td>51497</td>\n",
       "      <td>52392.0</td>\n",
       "      <td>-895.0</td>\n",
       "    </tr>\n",
       "    <tr>\n",
       "      <th>7</th>\n",
       "      <td>CHIM</td>\n",
       "      <td>53054</td>\n",
       "      <td>53972.0</td>\n",
       "      <td>-918.0</td>\n",
       "    </tr>\n",
       "    <tr>\n",
       "      <th>8</th>\n",
       "      <td>ATER</td>\n",
       "      <td>73828</td>\n",
       "      <td>69618.0</td>\n",
       "      <td>4210.0</td>\n",
       "    </tr>\n",
       "    <tr>\n",
       "      <th>9</th>\n",
       "      <td>DUH</td>\n",
       "      <td>122448</td>\n",
       "      <td>127352.0</td>\n",
       "      <td>-4904.0</td>\n",
       "    </tr>\n",
       "    <tr>\n",
       "      <th>10</th>\n",
       "      <td>GR6</td>\n",
       "      <td>20286</td>\n",
       "      <td>21711.0</td>\n",
       "      <td>-1425.0</td>\n",
       "    </tr>\n",
       "    <tr>\n",
       "      <th>11</th>\n",
       "      <td>EAC</td>\n",
       "      <td>27711</td>\n",
       "      <td>30793.0</td>\n",
       "      <td>-3082.0</td>\n",
       "    </tr>\n",
       "    <tr>\n",
       "      <th>12</th>\n",
       "      <td>CCB</td>\n",
       "      <td>31024</td>\n",
       "      <td>31388.0</td>\n",
       "      <td>-364.0</td>\n",
       "    </tr>\n",
       "  </tbody>\n",
       "</table>\n",
       "</div>"
      ],
      "text/plain": [
       "    code  real_volume  model_volume  differenses\n",
       "0   EUBG        99419      105903.0      -6484.0\n",
       "1   BREF        68873       64743.0       4130.0\n",
       "2    ALB        65055       65136.0        -81.0\n",
       "3   HVAR        15416       15580.0       -164.0\n",
       "4    SGH        41926       51564.0      -9638.0\n",
       "5    SFA       156810      160023.0      -3213.0\n",
       "6    FIB        51497       52392.0       -895.0\n",
       "7   CHIM        53054       53972.0       -918.0\n",
       "8   ATER        73828       69618.0       4210.0\n",
       "9    DUH       122448      127352.0      -4904.0\n",
       "10   GR6        20286       21711.0      -1425.0\n",
       "11   EAC        27711       30793.0      -3082.0\n",
       "12   CCB        31024       31388.0       -364.0"
      ]
     },
     "execution_count": 61,
     "metadata": {},
     "output_type": "execute_result"
    }
   ],
   "source": [
    "# weekly_volume\n",
    "in_real_v = real_results[['code','weekly_volume']]\n",
    "in_model_v = model_results[['code','weekly_volume']]\n",
    "emision_v = pd.DataFrame(in_real & in_model)\n",
    "emision_v.columns=['code']\n",
    "emision_v = emision_v.merge(in_real_v, on=\"code\", how=\"left\")\n",
    "emision_v = emision_v.merge(in_model_v, on=\"code\", how=\"left\")\n",
    "emision_v.columns=['code','real_volume','model_volume']\n",
    "emision_v['differenses'] = emision_v.real_volume - emision_v.model_volume\n",
    "emision_v"
   ]
  },
  {
   "cell_type": "code",
   "execution_count": 95,
   "metadata": {},
   "outputs": [
    {
     "data": {
      "image/png": "[encoded data removed]",
      "text/plain": [
       "<Figure size 432x288 with 1 Axes>"
      ]
     },
     "metadata": {
      "needs_background": "light"
     },
     "output_type": "display_data"
    }
   ],
   "source": [
    "correlation = emision_v.real_volume.corr(emision_v.model_volume)\n",
    "text_box_info = f'Correlarion: {correlation:.4f}'\n",
    "plt.scatter(emision_v.real_volume,emision_v.model_volume )\n",
    "plt.title('Correlation between model and real weekly volume')\n",
    "plt.ylabel('Model volume', fontsize=12)\n",
    "plt.xlabel('Real volume', fontsize=12)\n",
    "plt.text(18000,150000,text_box_info, fontsize=12, c = 'r')\n",
    "plt.show()"
   ]
  },
  {
   "cell_type": "code",
   "execution_count": 50,
   "metadata": {},
   "outputs": [
    {
     "data": {
      "text/plain": [
       "(-1756.0, -918.0, 3844.2594432044602)"
      ]
     },
     "execution_count": 50,
     "metadata": {},
     "output_type": "execute_result"
    }
   ],
   "source": [
    "emision_v.differenses.mean(),  emision_v.differenses.median(), emision_v.differenses.std()"
   ]
  },
  {
   "cell_type": "code",
   "execution_count": 51,
   "metadata": {},
   "outputs": [
    {
     "data": {
      "text/plain": [
       "-22828.0"
      ]
     },
     "execution_count": 51,
     "metadata": {},
     "output_type": "execute_result"
    }
   ],
   "source": [
    "emision_v.differenses.sum()\n",
    "# Да проверя как борсата отчита непълна седмица при началния и крайния период - взема данните за цялата седмица\n",
    "# или данните само за дните , които се падат в седмицата."
   ]
  },
  {
   "cell_type": "code",
   "execution_count": 63,
   "metadata": {},
   "outputs": [
    {
     "data": {
      "text/plain": [
       "-0.027591808515653047"
      ]
     },
     "execution_count": 63,
     "metadata": {},
     "output_type": "execute_result"
    }
   ],
   "source": [
    "emision_v.differenses.mean()/emision_v.real_volume.mean()\n",
    "#около 2,76% отклонение"
   ]
  },
  {
   "cell_type": "code",
   "execution_count": 64,
   "metadata": {},
   "outputs": [
    {
     "data": {
      "text/plain": [
       "code                 object\n",
       "real_free_float       int64\n",
       "model_free_float    float64\n",
       "dtype: object"
      ]
     },
     "execution_count": 64,
     "metadata": {},
     "output_type": "execute_result"
    }
   ],
   "source": [
    "# free_float\n",
    "in_real_f = real_results[['code','free_float']]\n",
    "in_model_f = model_results[['code','free_float']]\n",
    "emision_f = pd.DataFrame(in_real & in_model)\n",
    "emision_f.columns=['code']\n",
    "emision_f = emision_f.merge(in_real_f, on=\"code\", how=\"left\")\n",
    "emision_f = emision_f.merge(in_model_f, on=\"code\", how=\"left\")\n",
    "emision_f.columns=['code','real_free_float','model_free_float']\n",
    "# emision_f['differenses'] = emision_f.real_free_float - emision_f.model_free_float\n",
    "emision_f.dtypes\n"
   ]
  },
  {
   "cell_type": "code",
   "execution_count": 65,
   "metadata": {},
   "outputs": [
    {
     "data": {
      "text/plain": [
       "0     150423645.0\n",
       "1      49426059.0\n",
       "2      35810505.0\n",
       "3      78542137.0\n",
       "4      17081939.0\n",
       "5     156588249.0\n",
       "6      29541600.0\n",
       "7      51731241.0\n",
       "8     102428973.0\n",
       "9      55730526.0\n",
       "10     65664728.0\n",
       "11     27765300.0\n",
       "12     22450644.0\n",
       "Name: real_free_float, dtype: float64"
      ]
     },
     "execution_count": 65,
     "metadata": {},
     "output_type": "execute_result"
    }
   ],
   "source": [
    "emision_f.real_free_float.apply ( lambda x: float ( x ) )"
   ]
  },
  {
   "cell_type": "code",
   "execution_count": 66,
   "metadata": {},
   "outputs": [
    {
     "data": {
      "text/html": [
       "<div>\n",
       "<style scoped>\n",
       "    .dataframe tbody tr th:only-of-type {\n",
       "        vertical-align: middle;\n",
       "    }\n",
       "\n",
       "    .dataframe tbody tr th {\n",
       "        vertical-align: top;\n",
       "    }\n",
       "\n",
       "    .dataframe thead th {\n",
       "        text-align: right;\n",
       "    }\n",
       "</style>\n",
       "<table border=\"1\" class=\"dataframe\">\n",
       "  <thead>\n",
       "    <tr style=\"text-align: right;\">\n",
       "      <th></th>\n",
       "      <th>code</th>\n",
       "      <th>real_free_float</th>\n",
       "      <th>model_free_float</th>\n",
       "      <th>differenses</th>\n",
       "    </tr>\n",
       "  </thead>\n",
       "  <tbody>\n",
       "    <tr>\n",
       "      <th>0</th>\n",
       "      <td>EUBG</td>\n",
       "      <td>150423645</td>\n",
       "      <td>146648068.0</td>\n",
       "      <td>3775577.0</td>\n",
       "    </tr>\n",
       "    <tr>\n",
       "      <th>1</th>\n",
       "      <td>BREF</td>\n",
       "      <td>49426059</td>\n",
       "      <td>49219319.0</td>\n",
       "      <td>206740.0</td>\n",
       "    </tr>\n",
       "    <tr>\n",
       "      <th>2</th>\n",
       "      <td>ALB</td>\n",
       "      <td>35810505</td>\n",
       "      <td>35806484.0</td>\n",
       "      <td>4021.0</td>\n",
       "    </tr>\n",
       "    <tr>\n",
       "      <th>3</th>\n",
       "      <td>HVAR</td>\n",
       "      <td>78542137</td>\n",
       "      <td>78471400.0</td>\n",
       "      <td>70737.0</td>\n",
       "    </tr>\n",
       "    <tr>\n",
       "      <th>4</th>\n",
       "      <td>SGH</td>\n",
       "      <td>17081939</td>\n",
       "      <td>17188430.0</td>\n",
       "      <td>-106491.0</td>\n",
       "    </tr>\n",
       "    <tr>\n",
       "      <th>5</th>\n",
       "      <td>SFA</td>\n",
       "      <td>156588249</td>\n",
       "      <td>160642033.0</td>\n",
       "      <td>-4053784.0</td>\n",
       "    </tr>\n",
       "    <tr>\n",
       "      <th>6</th>\n",
       "      <td>FIB</td>\n",
       "      <td>29541600</td>\n",
       "      <td>29535000.0</td>\n",
       "      <td>6600.0</td>\n",
       "    </tr>\n",
       "    <tr>\n",
       "      <th>7</th>\n",
       "      <td>CHIM</td>\n",
       "      <td>51731241</td>\n",
       "      <td>51940098.0</td>\n",
       "      <td>-208857.0</td>\n",
       "    </tr>\n",
       "    <tr>\n",
       "      <th>8</th>\n",
       "      <td>ATER</td>\n",
       "      <td>102428973</td>\n",
       "      <td>102599719.0</td>\n",
       "      <td>-170746.0</td>\n",
       "    </tr>\n",
       "    <tr>\n",
       "      <th>9</th>\n",
       "      <td>DUH</td>\n",
       "      <td>55730526</td>\n",
       "      <td>55733918.0</td>\n",
       "      <td>-3392.0</td>\n",
       "    </tr>\n",
       "    <tr>\n",
       "      <th>10</th>\n",
       "      <td>GR6</td>\n",
       "      <td>65664728</td>\n",
       "      <td>65682203.0</td>\n",
       "      <td>-17475.0</td>\n",
       "    </tr>\n",
       "    <tr>\n",
       "      <th>11</th>\n",
       "      <td>EAC</td>\n",
       "      <td>27765300</td>\n",
       "      <td>27599413.0</td>\n",
       "      <td>165887.0</td>\n",
       "    </tr>\n",
       "    <tr>\n",
       "      <th>12</th>\n",
       "      <td>CCB</td>\n",
       "      <td>22450644</td>\n",
       "      <td>22451967.0</td>\n",
       "      <td>-1323.0</td>\n",
       "    </tr>\n",
       "  </tbody>\n",
       "</table>\n",
       "</div>"
      ],
      "text/plain": [
       "    code  real_free_float  model_free_float  differenses\n",
       "0   EUBG        150423645       146648068.0    3775577.0\n",
       "1   BREF         49426059        49219319.0     206740.0\n",
       "2    ALB         35810505        35806484.0       4021.0\n",
       "3   HVAR         78542137        78471400.0      70737.0\n",
       "4    SGH         17081939        17188430.0    -106491.0\n",
       "5    SFA        156588249       160642033.0   -4053784.0\n",
       "6    FIB         29541600        29535000.0       6600.0\n",
       "7   CHIM         51731241        51940098.0    -208857.0\n",
       "8   ATER        102428973       102599719.0    -170746.0\n",
       "9    DUH         55730526        55733918.0      -3392.0\n",
       "10   GR6         65664728        65682203.0     -17475.0\n",
       "11   EAC         27765300        27599413.0     165887.0\n",
       "12   CCB         22450644        22451967.0      -1323.0"
      ]
     },
     "execution_count": 66,
     "metadata": {},
     "output_type": "execute_result"
    }
   ],
   "source": [
    "emision_f['differenses'] = emision_f.real_free_float - emision_f.model_free_float\n",
    "emision_f"
   ]
  },
  {
   "cell_type": "code",
   "execution_count": 94,
   "metadata": {},
   "outputs": [
    {
     "data": {
      "image/png": "[encoded data removed]",
      "text/plain": [
       "<Figure size 432x288 with 1 Axes>"
      ]
     },
     "metadata": {
      "needs_background": "light"
     },
     "output_type": "display_data"
    }
   ],
   "source": [
    "correlation = emision_f.real_free_float.corr(emision_f.model_free_float)\n",
    "text_box_info = f'Correlarion: {correlation:.4f}'\n",
    "plt.scatter(emision_f.real_free_float,emision_f.model_free_float )\n",
    "plt.title('Correlation between model and real free float')\n",
    "plt.ylabel('Model free_float', fontsize=12)\n",
    "plt.xlabel('Real free_float', fontsize=12)\n",
    "plt.text(0.2e8,1.5e8,text_box_info, fontsize=12, c = 'r')\n",
    "plt.show()"
   ]
  },
  {
   "cell_type": "code",
   "execution_count": 67,
   "metadata": {},
   "outputs": [
    {
     "data": {
      "text/plain": [
       "-0.0003943449950931678"
      ]
     },
     "execution_count": 67,
     "metadata": {},
     "output_type": "execute_result"
    }
   ],
   "source": [
    "#очаквах чувствително отклонение, ама не е! Показателя е относително статичен\n",
    "# ЦД не води правилно репата - отчита ги като фрий флоут - EUBG  \t150423645 - това не е вярно. Но в случая \"не играе\" \n",
    "emision_f.differenses.mean()/emision_f.real_free_float.mean()"
   ]
  },
  {
   "cell_type": "code",
   "execution_count": 45,
   "metadata": {
    "scrolled": true
   },
   "outputs": [
    {
     "data": {
      "text/html": [
       "<div>\n",
       "<style scoped>\n",
       "    .dataframe tbody tr th:only-of-type {\n",
       "        vertical-align: middle;\n",
       "    }\n",
       "\n",
       "    .dataframe tbody tr th {\n",
       "        vertical-align: top;\n",
       "    }\n",
       "\n",
       "    .dataframe thead th {\n",
       "        text-align: right;\n",
       "    }\n",
       "</style>\n",
       "<table border=\"1\" class=\"dataframe\">\n",
       "  <thead>\n",
       "    <tr style=\"text-align: right;\">\n",
       "      <th></th>\n",
       "      <th>code</th>\n",
       "      <th>real_spread</th>\n",
       "      <th>model_spread</th>\n",
       "      <th>differenses</th>\n",
       "    </tr>\n",
       "  </thead>\n",
       "  <tbody>\n",
       "    <tr>\n",
       "      <th>0</th>\n",
       "      <td>EUBG</td>\n",
       "      <td>0.127798</td>\n",
       "      <td>0.2007</td>\n",
       "      <td>-0.072902</td>\n",
       "    </tr>\n",
       "    <tr>\n",
       "      <th>1</th>\n",
       "      <td>BREF</td>\n",
       "      <td>0.037336</td>\n",
       "      <td>0.0601</td>\n",
       "      <td>-0.022764</td>\n",
       "    </tr>\n",
       "    <tr>\n",
       "      <th>2</th>\n",
       "      <td>ALB</td>\n",
       "      <td>0.065323</td>\n",
       "      <td>0.1407</td>\n",
       "      <td>-0.075377</td>\n",
       "    </tr>\n",
       "    <tr>\n",
       "      <th>3</th>\n",
       "      <td>HVAR</td>\n",
       "      <td>0.054199</td>\n",
       "      <td>0.1080</td>\n",
       "      <td>-0.053801</td>\n",
       "    </tr>\n",
       "    <tr>\n",
       "      <th>4</th>\n",
       "      <td>SGH</td>\n",
       "      <td>0.068372</td>\n",
       "      <td>0.1150</td>\n",
       "      <td>-0.046628</td>\n",
       "    </tr>\n",
       "    <tr>\n",
       "      <th>5</th>\n",
       "      <td>SFA</td>\n",
       "      <td>0.034681</td>\n",
       "      <td>0.0542</td>\n",
       "      <td>-0.019519</td>\n",
       "    </tr>\n",
       "    <tr>\n",
       "      <th>6</th>\n",
       "      <td>FIB</td>\n",
       "      <td>0.061761</td>\n",
       "      <td>0.0982</td>\n",
       "      <td>-0.036439</td>\n",
       "    </tr>\n",
       "    <tr>\n",
       "      <th>7</th>\n",
       "      <td>CHIM</td>\n",
       "      <td>0.049303</td>\n",
       "      <td>0.0891</td>\n",
       "      <td>-0.039797</td>\n",
       "    </tr>\n",
       "    <tr>\n",
       "      <th>8</th>\n",
       "      <td>ATER</td>\n",
       "      <td>0.026616</td>\n",
       "      <td>0.0444</td>\n",
       "      <td>-0.017784</td>\n",
       "    </tr>\n",
       "    <tr>\n",
       "      <th>9</th>\n",
       "      <td>DUH</td>\n",
       "      <td>0.044712</td>\n",
       "      <td>0.0649</td>\n",
       "      <td>-0.020188</td>\n",
       "    </tr>\n",
       "    <tr>\n",
       "      <th>10</th>\n",
       "      <td>GR6</td>\n",
       "      <td>0.078830</td>\n",
       "      <td>0.1581</td>\n",
       "      <td>-0.079270</td>\n",
       "    </tr>\n",
       "    <tr>\n",
       "      <th>11</th>\n",
       "      <td>EAC</td>\n",
       "      <td>0.032696</td>\n",
       "      <td>0.0567</td>\n",
       "      <td>-0.024004</td>\n",
       "    </tr>\n",
       "    <tr>\n",
       "      <th>12</th>\n",
       "      <td>CCB</td>\n",
       "      <td>0.085481</td>\n",
       "      <td>0.1444</td>\n",
       "      <td>-0.058919</td>\n",
       "    </tr>\n",
       "  </tbody>\n",
       "</table>\n",
       "</div>"
      ],
      "text/plain": [
       "    code  real_spread  model_spread  differenses\n",
       "0   EUBG     0.127798        0.2007    -0.072902\n",
       "1   BREF     0.037336        0.0601    -0.022764\n",
       "2    ALB     0.065323        0.1407    -0.075377\n",
       "3   HVAR     0.054199        0.1080    -0.053801\n",
       "4    SGH     0.068372        0.1150    -0.046628\n",
       "5    SFA     0.034681        0.0542    -0.019519\n",
       "6    FIB     0.061761        0.0982    -0.036439\n",
       "7   CHIM     0.049303        0.0891    -0.039797\n",
       "8   ATER     0.026616        0.0444    -0.017784\n",
       "9    DUH     0.044712        0.0649    -0.020188\n",
       "10   GR6     0.078830        0.1581    -0.079270\n",
       "11   EAC     0.032696        0.0567    -0.024004\n",
       "12   CCB     0.085481        0.1444    -0.058919"
      ]
     },
     "execution_count": 45,
     "metadata": {},
     "output_type": "execute_result"
    }
   ],
   "source": [
    "# spread\n",
    "in_real_s = real_results[['code','spread']]\n",
    "in_model_s = model_results[['code','spread']]\n",
    "emision_s = pd.DataFrame(in_real & in_model)\n",
    "emision_s.columns=['code']\n",
    "emision_s = emision_s.merge(in_real_s, on=\"code\", how=\"left\")\n",
    "emision_s = emision_s.merge(in_model_s, on=\"code\", how=\"left\")\n",
    "emision_s.columns=['code','real_spread','model_spread']\n",
    "emision_s['differenses'] = emision_s.real_spread - emision_s.model_spread\n",
    "emision_s\n"
   ]
  },
  {
   "cell_type": "code",
   "execution_count": 190,
   "metadata": {},
   "outputs": [
    {
     "data": {
      "text/plain": [
       "-0.7396467715343207"
      ]
     },
     "execution_count": 190,
     "metadata": {},
     "output_type": "execute_result"
    }
   ],
   "source": [
    "#\"тотал щета\"  - очаквано - модела отчита по-голям спред - модела не обхваща поръчките айсберг и не прилага метода 15000 и 10000 \n",
    "emision_s.differenses.mean()/emision_s.real_spread.mean()"
   ]
  },
  {
   "cell_type": "code",
   "execution_count": 79,
   "metadata": {},
   "outputs": [
    {
     "data": {
      "image/png": "[encoded data removed]",
      "text/plain": [
       "<Figure size 432x288 with 1 Axes>"
      ]
     },
     "metadata": {
      "needs_background": "light"
     },
     "output_type": "display_data"
    }
   ],
   "source": [
    "codies = emision_s.code\n",
    "differenses = np.array(emision_s.differenses)\n",
    "plt.barh(codies, differenses, color=\"green\", alpha = 0.4)\n",
    "plt.yticks(fontsize=12)\n",
    "plt.xticks(fontsize=12)\n",
    "plt.title('Spread differences')\n",
    "plt.ylabel('Emission', fontsize=12)\n",
    "plt.xlabel('differences', fontsize=12)\n",
    "\n",
    "plt.show()"
   ]
  },
  {
   "cell_type": "code",
   "execution_count": 86,
   "metadata": {},
   "outputs": [
    {
     "data": {
      "image/png": "[encoded data removed]",
      "text/plain": [
       "<Figure size 432x288 with 1 Axes>"
      ]
     },
     "metadata": {
      "needs_background": "light"
     },
     "output_type": "display_data"
    }
   ],
   "source": [
    "codies = emision_s.code\n",
    "differenses = np.array(emision_s.differenses)\n",
    "plt.hist(differenses, color=\"blue\", bins=6, alpha = 0.4)\n",
    "plt.yticks(fontsize=12)\n",
    "plt.xticks(fontsize=12)\n",
    "plt.title('Spread histogram')\n",
    "plt.ylabel('count', fontsize=12)\n",
    "plt.xlabel('differences', fontsize=12)\n",
    "#хистограмите показват, че отклоненията на модела от \n",
    "#реалния резултат са винаги по-малки от нула и следователно модела надценява този показател\n",
    "plt.show()"
   ]
  },
  {
   "cell_type": "code",
   "execution_count": 223,
   "metadata": {},
   "outputs": [
    {
     "data": {
      "image/png": "[encoded data removed]",
      "text/plain": [
       "<Figure size 432x288 with 1 Axes>"
      ]
     },
     "metadata": {
      "needs_background": "light"
     },
     "output_type": "display_data"
    }
   ],
   "source": [
    "codies = emision_s.code\n",
    "differenses = np.array(emision_s.differenses)\n",
    "real_deals= np.array(emision_s.real_spread)\n",
    "model_deals= np.array(emision_s.model_spread)\n",
    "# plt.barh(x, y, color=\"green\", label=combined_label)\n",
    "plt.barh(codies, differenses, color=\"green\",label='differences', alpha = 0.2)\n",
    "plt.barh(codies, real_deals, color=\"blue\", label='real_deals' , alpha = 0.2)\n",
    "plt.barh(codies, model_deals, color=\"red\", label='model_deals' ,alpha = 0.2)\n",
    "plt.yticks(fontsize=12)\n",
    "plt.xticks(fontsize=12)\n",
    "# plt.xlim([-1, 1])\n",
    "# plt.xlim([-0.2, 0.2])\n",
    "plt.title('Spread analysis')\n",
    "plt.ylabel('Emission', fontsize=12)\n",
    "plt.xlabel('Differences vs. Data', fontsize=12)\n",
    "plt.legend(bbox_to_anchor=(1.05, 1), loc='upper left', borderaxespad=0.)\n",
    "plt.show()"
   ]
  },
  {
   "cell_type": "code",
   "execution_count": 93,
   "metadata": {},
   "outputs": [
    {
     "data": {
      "image/png": "[encoded data removed]",
      "text/plain": [
       "<Figure size 432x288 with 1 Axes>"
      ]
     },
     "metadata": {
      "needs_background": "light"
     },
     "output_type": "display_data"
    }
   ],
   "source": [
    "correlation = emision_s.real_spread.corr(emision_s.model_spread)\n",
    "text_box_info = f'Correlarion: {correlation:.4f}'\n",
    "plt.scatter(emision_s.real_spread,emision_s.model_spread )\n",
    "plt.title('Correlation between model and real spread')\n",
    "plt.ylabel('Model spread', fontsize=12)\n",
    "plt.xlabel('Real spread', fontsize=12)\n",
    "plt.text(0.03,0.18,text_box_info, fontsize=12, c = 'r')\n",
    "plt.show()"
   ]
  }
 ],
 "metadata": {
  "kernelspec": {
   "display_name": "Python 3",
   "language": "python",
   "name": "python3"
  },
  "language_info": {
   "codemirror_mode": {
    "name": "ipython",
    "version": 3
   },
   "file_extension": ".py",
   "mimetype": "text/x-python",
   "name": "python",
   "nbconvert_exporter": "python",
   "pygments_lexer": "ipython3",
   "version": "3.8.5"
  }
 },
 "nbformat": 4,
 "nbformat_minor": 4
}
